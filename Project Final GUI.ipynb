{
 "cells": [
  {
   "cell_type": "code",
   "execution_count": 1,
   "id": "f599a3db",
   "metadata": {},
   "outputs": [],
   "source": [
    "import numpy as np\n",
    "import pandas as pd\n",
    "from tensorflow.keras.models import Sequential\n",
    "from tensorflow.keras.layers import Dense,MaxPooling2D,Conv2D,Flatten,Dense\n",
    "from tqdm import tqdm\n",
    "import os\n",
    "from PIL import Image\n",
    "from tensorflow.keras.preprocessing.image import load_img\n",
    "import matplotlib.pyplot as plt\n",
    "import pickle\n",
    "import tkinter as tk\n",
    "from tkinter import filedialog\n",
    "from PIL import ImageTk, Image\n",
    "from tkinter import font"
   ]
  },
  {
   "cell_type": "code",
   "execution_count": 2,
   "id": "87c01a53",
   "metadata": {},
   "outputs": [],
   "source": [
    "with open(r\"D:\\Anand\\Machine Learning\\Project\\10_epoch_model.pkl\", \"rb\") as file:\n",
    "    model = pickle.load(file)"
   ]
  },
  {
   "cell_type": "code",
   "execution_count": null,
   "id": "d70e5b3f",
   "metadata": {},
   "outputs": [
    {
     "name": "stdout",
     "output_type": "stream",
     "text": [
      "D:/Anand/Machine Learning/images/WhatsApp Image 2023-06-10 at 08.21.54 (2).jpeg\n",
      "1/1 [==============================] - 0s 36ms/step\n"
     ]
    },
    {
     "name": "stderr",
     "output_type": "stream",
     "text": [
      "C:\\Users\\Dell\\AppData\\Local\\Temp\\ipykernel_13272\\4042248132.py:26: DeprecationWarning: ANTIALIAS is deprecated and will be removed in Pillow 10 (2023-07-01). Use LANCZOS or Resampling.LANCZOS instead.\n",
      "  pic=pic.resize((128,128),Image.ANTIALIAS)\n"
     ]
    },
    {
     "name": "stdout",
     "output_type": "stream",
     "text": [
      "D:/Anand/Machine Learning/images/getty-a-list-men-with-long-hair-jared-leto.jpg\n",
      "1/1 [==============================] - 0s 25ms/step\n",
      "D:/Anand/Machine Learning/images/WhatsApp Image 2023-06-10 at 08.21.55.jpeg\n",
      "1/1 [==============================] - 0s 27ms/step\n",
      "\n"
     ]
    },
    {
     "name": "stderr",
     "output_type": "stream",
     "text": [
      "Exception in Tkinter callback\n",
      "Traceback (most recent call last):\n",
      "  File \"C:\\Program Files\\Python311\\Lib\\site-packages\\PIL\\Image.py\", line 3240, in open\n",
      "    fp.seek(0)\n",
      "    ^^^^^^^\n",
      "AttributeError: 'str' object has no attribute 'seek'\n",
      "\n",
      "During handling of the above exception, another exception occurred:\n",
      "\n",
      "Traceback (most recent call last):\n",
      "  File \"C:\\Program Files\\Python311\\Lib\\tkinter\\__init__.py\", line 1948, in __call__\n",
      "    return self.func(*args)\n",
      "           ^^^^^^^^^^^^^^^^\n",
      "  File \"C:\\Users\\Dell\\AppData\\Local\\Temp\\ipykernel_13272\\4042248132.py\", line 9, in search_image\n",
      "    image = Image.open(image_path)\n",
      "            ^^^^^^^^^^^^^^^^^^^^^^\n",
      "  File \"C:\\Program Files\\Python311\\Lib\\site-packages\\PIL\\Image.py\", line 3242, in open\n",
      "    fp = io.BytesIO(fp.read())\n",
      "                    ^^^^^^^\n",
      "AttributeError: 'str' object has no attribute 'read'\n"
     ]
    },
    {
     "name": "stdout",
     "output_type": "stream",
     "text": [
      "D:/Anand/Machine Learning/images/WhatsApp Image 2023-06-10 at 08.21.54 (2).jpeg\n",
      "1/1 [==============================] - 0s 24ms/step\n",
      "D:/Anand/Machine Learning/images/getty-a-list-men-with-long-hair-jared-leto.jpg\n",
      "1/1 [==============================] - 0s 35ms/step\n",
      "D:/Anand/Machine Learning/images/short-haircuts-for-asian-girls.jpg\n",
      "1/1 [==============================] - 0s 24ms/step\n"
     ]
    }
   ],
   "source": [
    "path=''\n",
    "def search_image():\n",
    "    global path\n",
    "\n",
    "    search_term = search_entry.get()\n",
    "    image_path = get_image_path(search_term)\n",
    "    path=image_path\n",
    "    print(path)\n",
    "    image = Image.open(image_path)\n",
    "    image = image.resize((400, 400)) \n",
    "\n",
    "    tk_image = ImageTk.PhotoImage(image)\n",
    "\n",
    "    result_label.configure(image=tk_image)\n",
    "    result_label.image = tk_image\n",
    "\n",
    "\n",
    "def get_image_path(search_term):\n",
    "    file_path = filedialog.askopenfilename(title=\"Select Image\", filetypes=[(\"Image Files\", \"*.png;*.jpg;*.jpeg\")])\n",
    "    return file_path\n",
    "\n",
    "\n",
    "def predict():\n",
    "    result_text.delete(1.0,tk.END)\n",
    "    pic=load_img(path,grayscale=True)\n",
    "    pic=pic.resize((128,128),Image.ANTIALIAS)\n",
    "    pic=np.array(pic)\n",
    "    pred=model.predict(pic.reshape(1,128,128,1))\n",
    "    if pred[0][0]<0.5:\n",
    "        result_text.insert(tk.END, 'Male')\n",
    "    else:\n",
    "        result_text.insert(tk.END, 'Female')\n",
    "\n",
    "window = tk.Tk()\n",
    "window.title(\"Image Viewer\")\n",
    "\n",
    "\n",
    "search_frame = tk.Frame(window)\n",
    "search_frame.pack(pady=10)\n",
    "\n",
    "search_entry = tk.Entry(search_frame, width=30)\n",
    "search_entry.pack(side=tk.LEFT, padx=5)\n",
    "\n",
    "\n",
    "search_button = tk.Button(search_frame, text=\"Search\", command=search_image)\n",
    "search_button.pack(side=tk.LEFT, padx=10)\n",
    "\n",
    "\n",
    "result_frame = tk.Frame(window)\n",
    "result_frame.pack(padx=10)\n",
    "\n",
    "\n",
    "result_label = tk.Label(result_frame)\n",
    "result_label.pack()\n",
    "\n",
    "\n",
    "predict_button = tk.Button(window, text=\"Predict\", command=predict, font=(\"Arial\", 12, \"bold\"))\n",
    "predict_button.pack(pady=10)\n",
    "\n",
    "\n",
    "result_text = tk.Text(window, width=20, height=5, font=(\"Helvetica\", 12,\"bold\"), bg=\"white\", fg=\"black\")\n",
    "result_text.tag_configure(\"center\", justify='center')\n",
    "result_text.pack()\n",
    "\n",
    "window.mainloop()\n"
   ]
  },
  {
   "cell_type": "code",
   "execution_count": null,
   "id": "f57ede78",
   "metadata": {},
   "outputs": [],
   "source": []
  },
  {
   "cell_type": "code",
   "execution_count": null,
   "id": "80592a52",
   "metadata": {},
   "outputs": [],
   "source": []
  },
  {
   "cell_type": "code",
   "execution_count": null,
   "id": "04825960",
   "metadata": {},
   "outputs": [],
   "source": []
  }
 ],
 "metadata": {
  "kernelspec": {
   "display_name": "Python 3 (ipykernel)",
   "language": "python",
   "name": "python3"
  },
  "language_info": {
   "codemirror_mode": {
    "name": "ipython",
    "version": 3
   },
   "file_extension": ".py",
   "mimetype": "text/x-python",
   "name": "python",
   "nbconvert_exporter": "python",
   "pygments_lexer": "ipython3",
   "version": "3.11.3"
  }
 },
 "nbformat": 4,
 "nbformat_minor": 5
}
